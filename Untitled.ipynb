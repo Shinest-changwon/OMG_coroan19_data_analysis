{
 "cells": [
  {
   "cell_type": "code",
   "execution_count": 20,
   "metadata": {},
   "outputs": [],
   "source": [
    "import csv\n",
    "import numpy as np\n",
    "import pandas as pd"
   ]
  },
  {
   "cell_type": "code",
   "execution_count": 22,
   "metadata": {},
   "outputs": [
    {
     "data": {
      "text/html": [
       "<div>\n",
       "<style scoped>\n",
       "    .dataframe tbody tr th:only-of-type {\n",
       "        vertical-align: middle;\n",
       "    }\n",
       "\n",
       "    .dataframe tbody tr th {\n",
       "        vertical-align: top;\n",
       "    }\n",
       "\n",
       "    .dataframe thead th {\n",
       "        text-align: right;\n",
       "    }\n",
       "</style>\n",
       "<table border=\"1\" class=\"dataframe\">\n",
       "  <thead>\n",
       "    <tr style=\"text-align: right;\">\n",
       "      <th></th>\n",
       "      <th>image_name</th>\n",
       "      <th>category_label</th>\n",
       "    </tr>\n",
       "  </thead>\n",
       "  <tbody>\n",
       "    <tr>\n",
       "      <th>0</th>\n",
       "      <td>img/Sheer_Pleated-Front_Blouse/img_00000001.jpg</td>\n",
       "      <td>3</td>\n",
       "    </tr>\n",
       "    <tr>\n",
       "      <th>1</th>\n",
       "      <td>img/Sheer_Pleated-Front_Blouse/img_00000002.jpg</td>\n",
       "      <td>3</td>\n",
       "    </tr>\n",
       "    <tr>\n",
       "      <th>2</th>\n",
       "      <td>img/Sheer_Pleated-Front_Blouse/img_00000003.jpg</td>\n",
       "      <td>3</td>\n",
       "    </tr>\n",
       "    <tr>\n",
       "      <th>3</th>\n",
       "      <td>img/Sheer_Pleated-Front_Blouse/img_00000004.jpg</td>\n",
       "      <td>3</td>\n",
       "    </tr>\n",
       "    <tr>\n",
       "      <th>4</th>\n",
       "      <td>img/Sheer_Pleated-Front_Blouse/img_00000005.jpg</td>\n",
       "      <td>3</td>\n",
       "    </tr>\n",
       "    <tr>\n",
       "      <th>...</th>\n",
       "      <td>...</td>\n",
       "      <td>...</td>\n",
       "    </tr>\n",
       "    <tr>\n",
       "      <th>289217</th>\n",
       "      <td>img/Paisley_Print_Babydoll_Dress/img_00000050.jpg</td>\n",
       "      <td>41</td>\n",
       "    </tr>\n",
       "    <tr>\n",
       "      <th>289218</th>\n",
       "      <td>img/Paisley_Print_Babydoll_Dress/img_00000051.jpg</td>\n",
       "      <td>41</td>\n",
       "    </tr>\n",
       "    <tr>\n",
       "      <th>289219</th>\n",
       "      <td>img/Paisley_Print_Babydoll_Dress/img_00000052.jpg</td>\n",
       "      <td>41</td>\n",
       "    </tr>\n",
       "    <tr>\n",
       "      <th>289220</th>\n",
       "      <td>img/Paisley_Print_Babydoll_Dress/img_00000053.jpg</td>\n",
       "      <td>41</td>\n",
       "    </tr>\n",
       "    <tr>\n",
       "      <th>289221</th>\n",
       "      <td>img/Paisley_Print_Babydoll_Dress/img_00000054.jpg</td>\n",
       "      <td>41</td>\n",
       "    </tr>\n",
       "  </tbody>\n",
       "</table>\n",
       "<p>289222 rows × 2 columns</p>\n",
       "</div>"
      ],
      "text/plain": [
       "                                               image_name  category_label\n",
       "0         img/Sheer_Pleated-Front_Blouse/img_00000001.jpg               3\n",
       "1         img/Sheer_Pleated-Front_Blouse/img_00000002.jpg               3\n",
       "2         img/Sheer_Pleated-Front_Blouse/img_00000003.jpg               3\n",
       "3         img/Sheer_Pleated-Front_Blouse/img_00000004.jpg               3\n",
       "4         img/Sheer_Pleated-Front_Blouse/img_00000005.jpg               3\n",
       "...                                                   ...             ...\n",
       "289217  img/Paisley_Print_Babydoll_Dress/img_00000050.jpg              41\n",
       "289218  img/Paisley_Print_Babydoll_Dress/img_00000051.jpg              41\n",
       "289219  img/Paisley_Print_Babydoll_Dress/img_00000052.jpg              41\n",
       "289220  img/Paisley_Print_Babydoll_Dress/img_00000053.jpg              41\n",
       "289221  img/Paisley_Print_Babydoll_Dress/img_00000054.jpg              41\n",
       "\n",
       "[289222 rows x 2 columns]"
      ]
     },
     "execution_count": 22,
     "metadata": {},
     "output_type": "execute_result"
    }
   ],
   "source": [
    "licaim = pd.read_csv('./deepf/list_category_img.csv')\n",
    "licaim"
   ]
  },
  {
   "cell_type": "code",
   "execution_count": 38,
   "metadata": {},
   "outputs": [
    {
     "data": {
      "text/html": [
       "<div>\n",
       "<style scoped>\n",
       "    .dataframe tbody tr th:only-of-type {\n",
       "        vertical-align: middle;\n",
       "    }\n",
       "\n",
       "    .dataframe tbody tr th {\n",
       "        vertical-align: top;\n",
       "    }\n",
       "\n",
       "    .dataframe thead th {\n",
       "        text-align: right;\n",
       "    }\n",
       "</style>\n",
       "<table border=\"1\" class=\"dataframe\">\n",
       "  <thead>\n",
       "    <tr style=\"text-align: right;\">\n",
       "      <th></th>\n",
       "      <th>category_label</th>\n",
       "    </tr>\n",
       "    <tr>\n",
       "      <th>image_name</th>\n",
       "      <th></th>\n",
       "    </tr>\n",
       "  </thead>\n",
       "  <tbody>\n",
       "    <tr>\n",
       "      <th>img/Sheer_Pleated-Front_Blouse/img_00000001.jpg</th>\n",
       "      <td>3</td>\n",
       "    </tr>\n",
       "    <tr>\n",
       "      <th>img/Sheer_Pleated-Front_Blouse/img_00000002.jpg</th>\n",
       "      <td>3</td>\n",
       "    </tr>\n",
       "    <tr>\n",
       "      <th>img/Sheer_Pleated-Front_Blouse/img_00000003.jpg</th>\n",
       "      <td>3</td>\n",
       "    </tr>\n",
       "    <tr>\n",
       "      <th>img/Sheer_Pleated-Front_Blouse/img_00000004.jpg</th>\n",
       "      <td>3</td>\n",
       "    </tr>\n",
       "    <tr>\n",
       "      <th>img/Sheer_Pleated-Front_Blouse/img_00000005.jpg</th>\n",
       "      <td>3</td>\n",
       "    </tr>\n",
       "    <tr>\n",
       "      <th>...</th>\n",
       "      <td>...</td>\n",
       "    </tr>\n",
       "    <tr>\n",
       "      <th>img/Paisley_Print_Babydoll_Dress/img_00000050.jpg</th>\n",
       "      <td>41</td>\n",
       "    </tr>\n",
       "    <tr>\n",
       "      <th>img/Paisley_Print_Babydoll_Dress/img_00000051.jpg</th>\n",
       "      <td>41</td>\n",
       "    </tr>\n",
       "    <tr>\n",
       "      <th>img/Paisley_Print_Babydoll_Dress/img_00000052.jpg</th>\n",
       "      <td>41</td>\n",
       "    </tr>\n",
       "    <tr>\n",
       "      <th>img/Paisley_Print_Babydoll_Dress/img_00000053.jpg</th>\n",
       "      <td>41</td>\n",
       "    </tr>\n",
       "    <tr>\n",
       "      <th>img/Paisley_Print_Babydoll_Dress/img_00000054.jpg</th>\n",
       "      <td>41</td>\n",
       "    </tr>\n",
       "  </tbody>\n",
       "</table>\n",
       "<p>289222 rows × 1 columns</p>\n",
       "</div>"
      ],
      "text/plain": [
       "                                                   category_label\n",
       "image_name                                                       \n",
       "img/Sheer_Pleated-Front_Blouse/img_00000001.jpg                 3\n",
       "img/Sheer_Pleated-Front_Blouse/img_00000002.jpg                 3\n",
       "img/Sheer_Pleated-Front_Blouse/img_00000003.jpg                 3\n",
       "img/Sheer_Pleated-Front_Blouse/img_00000004.jpg                 3\n",
       "img/Sheer_Pleated-Front_Blouse/img_00000005.jpg                 3\n",
       "...                                                           ...\n",
       "img/Paisley_Print_Babydoll_Dress/img_00000050.jpg              41\n",
       "img/Paisley_Print_Babydoll_Dress/img_00000051.jpg              41\n",
       "img/Paisley_Print_Babydoll_Dress/img_00000052.jpg              41\n",
       "img/Paisley_Print_Babydoll_Dress/img_00000053.jpg              41\n",
       "img/Paisley_Print_Babydoll_Dress/img_00000054.jpg              41\n",
       "\n",
       "[289222 rows x 1 columns]"
      ]
     },
     "execution_count": 38,
     "metadata": {},
     "output_type": "execute_result"
    }
   ],
   "source": [
    "licaim = pd.read_csv('./deepf/list_category_img.csv', index_col = 'image_name')\n",
    "licaim"
   ]
  },
  {
   "cell_type": "code",
   "execution_count": 39,
   "metadata": {},
   "outputs": [
    {
     "data": {
      "text/plain": [
       "category_label    289222\n",
       "dtype: int64"
      ]
     },
     "execution_count": 39,
     "metadata": {},
     "output_type": "execute_result"
    }
   ],
   "source": [
    "licaim.count()"
   ]
  },
  {
   "cell_type": "code",
   "execution_count": 40,
   "metadata": {},
   "outputs": [
    {
     "data": {
      "text/plain": [
       "41    72158\n",
       "18    36887\n",
       "3     24557\n",
       "32    19666\n",
       "17    15429\n",
       "33    14773\n",
       "6     13311\n",
       "16    13123\n",
       "11    10467\n",
       "19    10078\n",
       "2      7495\n",
       "48     7408\n",
       "26     7076\n",
       "42     6153\n",
       "30     5013\n",
       "29     4416\n",
       "10     4048\n",
       "34     3048\n",
       "44     2294\n",
       "39     2120\n",
       "24     1669\n",
       "35     1106\n",
       "15      791\n",
       "12      748\n",
       "9       716\n",
       "13      676\n",
       "27      594\n",
       "22      527\n",
       "23      486\n",
       "36      386\n",
       "5       330\n",
       "7       324\n",
       "4       309\n",
       "1       160\n",
       "47      150\n",
       "20      146\n",
       "43      126\n",
       "14       97\n",
       "21       77\n",
       "46       70\n",
       "37       54\n",
       "25       49\n",
       "28       45\n",
       "31       32\n",
       "8        17\n",
       "40       17\n",
       "Name: category_label, dtype: int64"
      ]
     },
     "execution_count": 40,
     "metadata": {},
     "output_type": "execute_result"
    }
   ],
   "source": [
    "licaim['category_label'].value_counts()"
   ]
  },
  {
   "cell_type": "code",
   "execution_count": 42,
   "metadata": {},
   "outputs": [
    {
     "data": {
      "text/plain": [
       "46"
      ]
     },
     "execution_count": 42,
     "metadata": {},
     "output_type": "execute_result"
    }
   ],
   "source": [
    "licaim['category_label'].nunique()"
   ]
  },
  {
   "cell_type": "code",
   "execution_count": null,
   "metadata": {},
   "outputs": [],
   "source": []
  }
 ],
 "metadata": {
  "kernelspec": {
   "display_name": "Python 3",
   "language": "python",
   "name": "python3"
  },
  "language_info": {
   "codemirror_mode": {
    "name": "ipython",
    "version": 3
   },
   "file_extension": ".py",
   "mimetype": "text/x-python",
   "name": "python",
   "nbconvert_exporter": "python",
   "pygments_lexer": "ipython3",
   "version": "3.7.7"
  }
 },
 "nbformat": 4,
 "nbformat_minor": 4
}
